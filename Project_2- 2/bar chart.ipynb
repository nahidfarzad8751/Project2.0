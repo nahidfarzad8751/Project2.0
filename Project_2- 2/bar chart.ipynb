{
 "cells": [
  {
   "cell_type": "code",
   "execution_count": 28,
   "metadata": {},
   "outputs": [],
   "source": [
    "import pandas as pd\n",
    "from flask import (\n",
    "    Flask,\n",
    "    render_template,\n",
    "    jsonify,\n",
    "    request,\n",
    "    redirect)\n",
    "from sqlalchemy import create_engine\n",
    "import matplotlib.pyplot as plt\n",
    "import numpy as np"
   ]
  },
  {
   "cell_type": "code",
   "execution_count": 3,
   "metadata": {},
   "outputs": [],
   "source": [
    "file_2015= 'data/2015.csv'\n",
    "df_2015 = pd.read_csv(file_2015)\n",
    "file_2016= 'data/2016.csv'\n",
    "df_2016 = pd.read_csv(file_2016)\n",
    "file_2017= 'data/2017.csv'\n",
    "df_2017 = pd.read_csv(file_2017)\n",
    "file_2018= 'data/2018.csv'\n",
    "df_2018 = pd.read_csv(file_2018)\n",
    "file_2019= 'data/2019.csv'\n",
    "df_2019 = pd.read_csv(file_2019)\n"
   ]
  },
  {
   "cell_type": "code",
   "execution_count": 6,
   "metadata": {},
   "outputs": [],
   "source": [
    "df2015_cleaned=df_2015.drop(columns=['Standard Error', 'Family', 'Dystopia Residual', 'Region'])\n",
    "#add year column \n",
    "df2015_cleaned['Year']='2015'\n",
    "df2016_cleaned= df_2016.drop(columns=['Region','Lower Confidence Interval', 'Upper Confidence Interval', 'Family', 'Dystopia Residual'])\n",
    "df2016_cleaned['Year']='2016'\n",
    "df2017_cleaned=df_2017.drop(columns=['Whisker high','Whisker low', 'Family', 'Dystopia Residual'])\n",
    "df2017_cleaned=df2017_cleaned.rename(columns={'Economy GDP per Capita': 'Economy (GDP per Capita)', 'Health Life Expectancy':'Health (Life Expectancy)','Trust Government Corruption.': 'Trust (Government Corruption)' })\n",
    "df2017_cleaned['Year']='2017'\n",
    "df2018_cleaned=df_2018.drop(columns=['Social support'])\n",
    "df2018_cleaned.columns\n",
    "df2018_cleaned=df2018_cleaned.rename(columns={'Country or region':'Country','Overall rank': 'Happiness Rank', 'Score': 'Happiness Score', 'GDP per capita': 'Economy (GDP per Capita)', 'Healthy life expectancy':'Health (Life Expectancy)','Freedom to make life choices':'Freedom', 'Perceptions of corruption': 'Trust (Government Corruption)'})\n",
    "df2018_cleaned['Year']='2018'\n",
    "df2019_cleaned=df_2019.drop(columns=['Social support' ])\n",
    "df2019_cleaned=df2019_cleaned.rename(columns={'Overall rank': 'Happiness Rank', 'Score': 'Happiness Score', 'GDP per capita': 'Economy (GDP per Capita)', 'Healthy life expectancy':'Health (Life Expectancy)','Freedom to make life choices':'Freedom', 'Perceptions of corruption': 'Trust (Government Corruption)','Country or region':'Country'})\n",
    "df2019_cleaned['Year']='2019'"
   ]
  },
  {
   "cell_type": "code",
   "execution_count": 7,
   "metadata": {},
   "outputs": [],
   "source": [
    "#merging all dataframes\n",
    "# merged=result = df1.append(df2)\n",
    "happiness_df=df2015_cleaned.append([df2016_cleaned,df2017_cleaned, df2018_cleaned, df2019_cleaned])"
   ]
  },
  {
   "cell_type": "code",
   "execution_count": 8,
   "metadata": {},
   "outputs": [],
   "source": [
    "happiness_df = happiness_df.rename(columns={'Happiness Rank':'Happiness_Rank',\n",
    "                             'Happiness Score':'Happiness_Score',\n",
    "                             'Economy (GDP per Capita)':'Economy',\n",
    "                             'Health (Life Expectancy)':'Health', \n",
    "                             'Trust (Government Corruption)': 'Trust'})"
   ]
  },
  {
   "cell_type": "code",
   "execution_count": null,
   "metadata": {},
   "outputs": [],
   "source": []
  },
  {
   "cell_type": "code",
   "execution_count": 9,
   "metadata": {},
   "outputs": [
    {
     "data": {
      "text/html": [
       "<div>\n",
       "<style scoped>\n",
       "    .dataframe tbody tr th:only-of-type {\n",
       "        vertical-align: middle;\n",
       "    }\n",
       "\n",
       "    .dataframe tbody tr th {\n",
       "        vertical-align: top;\n",
       "    }\n",
       "\n",
       "    .dataframe thead th {\n",
       "        text-align: right;\n",
       "    }\n",
       "</style>\n",
       "<table border=\"1\" class=\"dataframe\">\n",
       "  <thead>\n",
       "    <tr style=\"text-align: right;\">\n",
       "      <th></th>\n",
       "      <th>Country</th>\n",
       "      <th>Happiness_Rank</th>\n",
       "      <th>Happiness_Score</th>\n",
       "      <th>Economy</th>\n",
       "      <th>Health</th>\n",
       "      <th>Freedom</th>\n",
       "      <th>Trust</th>\n",
       "      <th>Generosity</th>\n",
       "      <th>Year</th>\n",
       "    </tr>\n",
       "  </thead>\n",
       "  <tbody>\n",
       "    <tr>\n",
       "      <th>0</th>\n",
       "      <td>Switzerland</td>\n",
       "      <td>1</td>\n",
       "      <td>7.587</td>\n",
       "      <td>1.39651</td>\n",
       "      <td>0.94143</td>\n",
       "      <td>0.66557</td>\n",
       "      <td>0.41978</td>\n",
       "      <td>0.29678</td>\n",
       "      <td>2015</td>\n",
       "    </tr>\n",
       "    <tr>\n",
       "      <th>1</th>\n",
       "      <td>Iceland</td>\n",
       "      <td>2</td>\n",
       "      <td>7.561</td>\n",
       "      <td>1.30232</td>\n",
       "      <td>0.94784</td>\n",
       "      <td>0.62877</td>\n",
       "      <td>0.14145</td>\n",
       "      <td>0.43630</td>\n",
       "      <td>2015</td>\n",
       "    </tr>\n",
       "    <tr>\n",
       "      <th>2</th>\n",
       "      <td>Denmark</td>\n",
       "      <td>3</td>\n",
       "      <td>7.527</td>\n",
       "      <td>1.32548</td>\n",
       "      <td>0.87464</td>\n",
       "      <td>0.64938</td>\n",
       "      <td>0.48357</td>\n",
       "      <td>0.34139</td>\n",
       "      <td>2015</td>\n",
       "    </tr>\n",
       "    <tr>\n",
       "      <th>3</th>\n",
       "      <td>Norway</td>\n",
       "      <td>4</td>\n",
       "      <td>7.522</td>\n",
       "      <td>1.45900</td>\n",
       "      <td>0.88521</td>\n",
       "      <td>0.66973</td>\n",
       "      <td>0.36503</td>\n",
       "      <td>0.34699</td>\n",
       "      <td>2015</td>\n",
       "    </tr>\n",
       "    <tr>\n",
       "      <th>4</th>\n",
       "      <td>Canada</td>\n",
       "      <td>5</td>\n",
       "      <td>7.427</td>\n",
       "      <td>1.32629</td>\n",
       "      <td>0.90563</td>\n",
       "      <td>0.63297</td>\n",
       "      <td>0.32957</td>\n",
       "      <td>0.45811</td>\n",
       "      <td>2015</td>\n",
       "    </tr>\n",
       "    <tr>\n",
       "      <th>...</th>\n",
       "      <td>...</td>\n",
       "      <td>...</td>\n",
       "      <td>...</td>\n",
       "      <td>...</td>\n",
       "      <td>...</td>\n",
       "      <td>...</td>\n",
       "      <td>...</td>\n",
       "      <td>...</td>\n",
       "      <td>...</td>\n",
       "    </tr>\n",
       "    <tr>\n",
       "      <th>151</th>\n",
       "      <td>Rwanda</td>\n",
       "      <td>152</td>\n",
       "      <td>3.334</td>\n",
       "      <td>0.35900</td>\n",
       "      <td>0.61400</td>\n",
       "      <td>0.55500</td>\n",
       "      <td>0.41100</td>\n",
       "      <td>0.21700</td>\n",
       "      <td>2019</td>\n",
       "    </tr>\n",
       "    <tr>\n",
       "      <th>152</th>\n",
       "      <td>Tanzania</td>\n",
       "      <td>153</td>\n",
       "      <td>3.231</td>\n",
       "      <td>0.47600</td>\n",
       "      <td>0.49900</td>\n",
       "      <td>0.41700</td>\n",
       "      <td>0.14700</td>\n",
       "      <td>0.27600</td>\n",
       "      <td>2019</td>\n",
       "    </tr>\n",
       "    <tr>\n",
       "      <th>153</th>\n",
       "      <td>Afghanistan</td>\n",
       "      <td>154</td>\n",
       "      <td>3.203</td>\n",
       "      <td>0.35000</td>\n",
       "      <td>0.36100</td>\n",
       "      <td>0.00000</td>\n",
       "      <td>0.02500</td>\n",
       "      <td>0.15800</td>\n",
       "      <td>2019</td>\n",
       "    </tr>\n",
       "    <tr>\n",
       "      <th>154</th>\n",
       "      <td>Central African Republic</td>\n",
       "      <td>155</td>\n",
       "      <td>3.083</td>\n",
       "      <td>0.02600</td>\n",
       "      <td>0.10500</td>\n",
       "      <td>0.22500</td>\n",
       "      <td>0.03500</td>\n",
       "      <td>0.23500</td>\n",
       "      <td>2019</td>\n",
       "    </tr>\n",
       "    <tr>\n",
       "      <th>155</th>\n",
       "      <td>South Sudan</td>\n",
       "      <td>156</td>\n",
       "      <td>2.853</td>\n",
       "      <td>0.30600</td>\n",
       "      <td>0.29500</td>\n",
       "      <td>0.01000</td>\n",
       "      <td>0.09100</td>\n",
       "      <td>0.20200</td>\n",
       "      <td>2019</td>\n",
       "    </tr>\n",
       "  </tbody>\n",
       "</table>\n",
       "<p>782 rows × 9 columns</p>\n",
       "</div>"
      ],
      "text/plain": [
       "                      Country  Happiness_Rank  Happiness_Score  Economy  \\\n",
       "0                 Switzerland               1            7.587  1.39651   \n",
       "1                     Iceland               2            7.561  1.30232   \n",
       "2                     Denmark               3            7.527  1.32548   \n",
       "3                      Norway               4            7.522  1.45900   \n",
       "4                      Canada               5            7.427  1.32629   \n",
       "..                        ...             ...              ...      ...   \n",
       "151                    Rwanda             152            3.334  0.35900   \n",
       "152                  Tanzania             153            3.231  0.47600   \n",
       "153               Afghanistan             154            3.203  0.35000   \n",
       "154  Central African Republic             155            3.083  0.02600   \n",
       "155               South Sudan             156            2.853  0.30600   \n",
       "\n",
       "      Health  Freedom    Trust  Generosity  Year  \n",
       "0    0.94143  0.66557  0.41978     0.29678  2015  \n",
       "1    0.94784  0.62877  0.14145     0.43630  2015  \n",
       "2    0.87464  0.64938  0.48357     0.34139  2015  \n",
       "3    0.88521  0.66973  0.36503     0.34699  2015  \n",
       "4    0.90563  0.63297  0.32957     0.45811  2015  \n",
       "..       ...      ...      ...         ...   ...  \n",
       "151  0.61400  0.55500  0.41100     0.21700  2019  \n",
       "152  0.49900  0.41700  0.14700     0.27600  2019  \n",
       "153  0.36100  0.00000  0.02500     0.15800  2019  \n",
       "154  0.10500  0.22500  0.03500     0.23500  2019  \n",
       "155  0.29500  0.01000  0.09100     0.20200  2019  \n",
       "\n",
       "[782 rows x 9 columns]"
      ]
     },
     "execution_count": 9,
     "metadata": {},
     "output_type": "execute_result"
    }
   ],
   "source": [
    "happiness_df"
   ]
  },
  {
   "cell_type": "code",
   "execution_count": 51,
   "metadata": {},
   "outputs": [],
   "source": [
    "# good_movies_df = movie_file_df.loc[movie_file_df[\"IMDB\"] > 7, [\n",
    "#     \"FILM\", \"IMDB\", \"IMDB_user_vote_count\"]]\n",
    "years_2019= happiness_df.loc[happiness_df['Year']=='2019', ['Country','Happiness_Rank','Happiness_Score']]"
   ]
  },
  {
   "cell_type": "code",
   "execution_count": 52,
   "metadata": {},
   "outputs": [
    {
     "data": {
      "text/html": [
       "<div>\n",
       "<style scoped>\n",
       "    .dataframe tbody tr th:only-of-type {\n",
       "        vertical-align: middle;\n",
       "    }\n",
       "\n",
       "    .dataframe tbody tr th {\n",
       "        vertical-align: top;\n",
       "    }\n",
       "\n",
       "    .dataframe thead th {\n",
       "        text-align: right;\n",
       "    }\n",
       "</style>\n",
       "<table border=\"1\" class=\"dataframe\">\n",
       "  <thead>\n",
       "    <tr style=\"text-align: right;\">\n",
       "      <th></th>\n",
       "      <th>Country</th>\n",
       "      <th>Happiness_Rank</th>\n",
       "      <th>Happiness_Score</th>\n",
       "    </tr>\n",
       "  </thead>\n",
       "  <tbody>\n",
       "    <tr>\n",
       "      <th>0</th>\n",
       "      <td>Finland</td>\n",
       "      <td>1</td>\n",
       "      <td>7.769</td>\n",
       "    </tr>\n",
       "    <tr>\n",
       "      <th>1</th>\n",
       "      <td>Denmark</td>\n",
       "      <td>2</td>\n",
       "      <td>7.600</td>\n",
       "    </tr>\n",
       "    <tr>\n",
       "      <th>2</th>\n",
       "      <td>Norway</td>\n",
       "      <td>3</td>\n",
       "      <td>7.554</td>\n",
       "    </tr>\n",
       "    <tr>\n",
       "      <th>3</th>\n",
       "      <td>Iceland</td>\n",
       "      <td>4</td>\n",
       "      <td>7.494</td>\n",
       "    </tr>\n",
       "    <tr>\n",
       "      <th>4</th>\n",
       "      <td>Netherlands</td>\n",
       "      <td>5</td>\n",
       "      <td>7.488</td>\n",
       "    </tr>\n",
       "    <tr>\n",
       "      <th>5</th>\n",
       "      <td>Switzerland</td>\n",
       "      <td>6</td>\n",
       "      <td>7.480</td>\n",
       "    </tr>\n",
       "    <tr>\n",
       "      <th>6</th>\n",
       "      <td>Sweden</td>\n",
       "      <td>7</td>\n",
       "      <td>7.343</td>\n",
       "    </tr>\n",
       "    <tr>\n",
       "      <th>7</th>\n",
       "      <td>New Zealand</td>\n",
       "      <td>8</td>\n",
       "      <td>7.307</td>\n",
       "    </tr>\n",
       "    <tr>\n",
       "      <th>8</th>\n",
       "      <td>Canada</td>\n",
       "      <td>9</td>\n",
       "      <td>7.278</td>\n",
       "    </tr>\n",
       "    <tr>\n",
       "      <th>9</th>\n",
       "      <td>Austria</td>\n",
       "      <td>10</td>\n",
       "      <td>7.246</td>\n",
       "    </tr>\n",
       "  </tbody>\n",
       "</table>\n",
       "</div>"
      ],
      "text/plain": [
       "       Country  Happiness_Rank  Happiness_Score\n",
       "0      Finland               1            7.769\n",
       "1      Denmark               2            7.600\n",
       "2       Norway               3            7.554\n",
       "3      Iceland               4            7.494\n",
       "4  Netherlands               5            7.488\n",
       "5  Switzerland               6            7.480\n",
       "6       Sweden               7            7.343\n",
       "7  New Zealand               8            7.307\n",
       "8       Canada               9            7.278\n",
       "9      Austria              10            7.246"
      ]
     },
     "execution_count": 52,
     "metadata": {},
     "output_type": "execute_result"
    }
   ],
   "source": [
    "years_2019=years_2019.head(10)\n",
    "years_2019"
   ]
  },
  {
   "cell_type": "code",
   "execution_count": 53,
   "metadata": {},
   "outputs": [],
   "source": [
    "x_axis_2019=years_2019['Country']"
   ]
  },
  {
   "cell_type": "code",
   "execution_count": 54,
   "metadata": {},
   "outputs": [
    {
     "data": {
      "text/plain": [
       "['Finland',\n",
       " 'Denmark',\n",
       " 'Norway',\n",
       " 'Iceland',\n",
       " 'Netherlands',\n",
       " 'Switzerland',\n",
       " 'Sweden',\n",
       " 'New Zealand',\n",
       " 'Canada',\n",
       " 'Austria']"
      ]
     },
     "execution_count": 54,
     "metadata": {},
     "output_type": "execute_result"
    }
   ],
   "source": [
    "x_axis_2019.to_list()"
   ]
  },
  {
   "cell_type": "code",
   "execution_count": 55,
   "metadata": {},
   "outputs": [],
   "source": [
    "y_axis_2019= years['Happiness_Score']"
   ]
  },
  {
   "cell_type": "code",
   "execution_count": 56,
   "metadata": {},
   "outputs": [
    {
     "data": {
      "text/plain": [
       "[7.769,\n",
       " 7.6,\n",
       " 7.553999999999999,\n",
       " 7.494,\n",
       " 7.4879999999999995,\n",
       " 7.48,\n",
       " 7.343,\n",
       " 7.307,\n",
       " 7.278,\n",
       " 7.246]"
      ]
     },
     "execution_count": 56,
     "metadata": {},
     "output_type": "execute_result"
    }
   ],
   "source": [
    "y_axis_2019.to_list()"
   ]
  },
  {
   "cell_type": "code",
   "execution_count": 79,
   "metadata": {},
   "outputs": [
    {
     "data": {
      "image/png": "[encoded data removed]",
      "text/plain": [
       "<Figure size 432x288 with 1 Axes>"
      ]
     },
     "metadata": {
      "needs_background": "light"
     },
     "output_type": "display_data"
    }
   ],
   "source": [
    "plt.bar(x_axis_2019, y_axis_2019, align=\"center\")\n",
    "plt.xticks(rotation=90)\n",
    "plt.xlabel(\"Country\")\n",
    "plt.ylabel('Happiness Score')\n",
    "plt.title('Happiness Score in 2019')\n",
    "plt.savefig('happines_score_2019.jpg')  \n"
   ]
  },
  {
   "cell_type": "code",
   "execution_count": 78,
   "metadata": {},
   "outputs": [
    {
     "data": {
      "image/png": "[encoded data removed]",
      "text/plain": [
       "<Figure size 432x288 with 1 Axes>"
      ]
     },
     "metadata": {
      "needs_background": "light"
     },
     "output_type": "display_data"
    }
   ],
   "source": [
    "years_2018= happiness_df.loc[happiness_df['Year']=='2018', ['Country','Happiness_Rank','Happiness_Score']]\n",
    "years_2018=years_2018.head(10)\n",
    "x_axis_2018=years_2018['Country']\n",
    "x_axis_2018.to_list()\n",
    "y_axis_2018= years['Happiness_Score']\n",
    "y_axis_2018.to_list()\n",
    "plt.bar(x_axis_2018, y_axis_2018, align=\"center\")\n",
    "plt.xticks(rotation=90)\n",
    "plt.xlabel(\"Country\")\n",
    "plt.ylabel('Happiness Score')\n",
    "plt.title('Happiness Score in 2018')\n",
    "plt.savefig('happines_score_2018.jpg')  \n"
   ]
  },
  {
   "cell_type": "code",
   "execution_count": 77,
   "metadata": {},
   "outputs": [
    {
     "data": {
      "image/png": "[encoded data removed]",
      "text/plain": [
       "<Figure size 432x288 with 1 Axes>"
      ]
     },
     "metadata": {
      "needs_background": "light"
     },
     "output_type": "display_data"
    }
   ],
   "source": [
    "years_2017= happiness_df.loc[happiness_df['Year']=='2017', ['Country','Happiness_Rank','Happiness_Score']]\n",
    "years_2017=years_2017.head(10)\n",
    "x_axis_2017=years_2017['Country']\n",
    "x_axis_2017.to_list()\n",
    "y_axis_2017= years['Happiness_Score']\n",
    "y_axis_2017.to_list()\n",
    "plt.bar(x_axis_2017, y_axis_2017, align=\"center\")\n",
    "plt.xticks(rotation=90)\n",
    "plt.xlabel(\"Country\")\n",
    "plt.ylabel('Happiness Score')\n",
    "plt.title('Happiness Score in 2017')\n",
    "plt.savefig('happines_score_2017.jpg')  \n"
   ]
  },
  {
   "cell_type": "code",
   "execution_count": 76,
   "metadata": {},
   "outputs": [
    {
     "data": {
      "image/png": "[encoded data removed]",
      "text/plain": [
       "<Figure size 432x288 with 1 Axes>"
      ]
     },
     "metadata": {
      "needs_background": "light"
     },
     "output_type": "display_data"
    }
   ],
   "source": [
    "years_2016= happiness_df.loc[happiness_df['Year']=='2016', ['Country','Happiness_Rank','Happiness_Score']]\n",
    "years_2016=years_2016.head(10)\n",
    "x_axis_2016=years_2016['Country']\n",
    "x_axis_2016.to_list()\n",
    "y_axis_2016= years['Happiness_Score']\n",
    "y_axis_2016.to_list()\n",
    "plt.bar(x_axis_2016, y_axis_2016, align=\"center\")\n",
    "plt.xticks(rotation=90)\n",
    "plt.xlabel(\"Country\")\n",
    "plt.ylabel('Happiness Score')\n",
    "plt.title('Happiness Score in 2016')\n",
    "plt.savefig('happines_score_2016.jpg')  \n"
   ]
  },
  {
   "cell_type": "code",
   "execution_count": 75,
   "metadata": {},
   "outputs": [
    {
     "data": {
      "image/png": "[encoded data removed]",
      "text/plain": [
       "<Figure size 432x288 with 1 Axes>"
      ]
     },
     "metadata": {
      "needs_background": "light"
     },
     "output_type": "display_data"
    }
   ],
   "source": [
    "years_2015= happiness_df.loc[happiness_df['Year']=='2015', ['Country','Happiness_Rank','Happiness_Score']]\n",
    "years_2015=years_2015.head(10)\n",
    "x_axis_2015=years_2015['Country']\n",
    "x_axis_2015.to_list()\n",
    "y_axis_2015= years['Happiness_Score']\n",
    "y_axis_2015.to_list()\n",
    "plt.bar(x_axis_2015, y_axis_2015, align=\"center\")\n",
    "plt.xticks(rotation=90)\n",
    "plt.xlabel(\"Country\")\n",
    "plt.ylabel('Happiness Score')\n",
    "plt.title('Happiness Score in 2015')\n",
    "plt.savefig('happines_score_2015.jpg')  \n"
   ]
  },
  {
   "cell_type": "code",
   "execution_count": 73,
   "metadata": {},
   "outputs": [],
   "source": []
  },
  {
   "cell_type": "code",
   "execution_count": null,
   "metadata": {},
   "outputs": [],
   "source": []
  }
 ],
 "metadata": {
  "kernelspec": {
   "display_name": "Python 3",
   "language": "python",
   "name": "python3"
  },
  "language_info": {
   "codemirror_mode": {
    "name": "ipython",
    "version": 3
   },
   "file_extension": ".py",
   "mimetype": "text/x-python",
   "name": "python",
   "nbconvert_exporter": "python",
   "pygments_lexer": "ipython3",
   "version": "3.8.3"
  }
 },
 "nbformat": 4,
 "nbformat_minor": 4
}
